{
  "cells": [
    {
      "cell_type": "code",
      "execution_count": 6,
      "metadata": {
        "id": "i0IEITnd10kE"
      },
      "outputs": [],
      "source": [
        "from math import exp as exp\n",
        "from math import sqrt as sqrt"
      ]
    },
    {
      "cell_type": "code",
      "execution_count": 7,
      "metadata": {
        "id": "kMVCUjug7b02"
      },
      "outputs": [],
      "source": [
        "x0 = 0\n",
        "x1 = 1\n"
      ]
    },
    {
      "cell_type": "code",
      "execution_count": 8,
      "metadata": {
        "id": "C4foXMap8Gj8"
      },
      "outputs": [],
      "source": [
        "def f(x):\n",
        "  return exp(x)"
      ]
    },
    {
      "cell_type": "code",
      "execution_count": 9,
      "metadata": {
        "id": "HFFuo6_f7oDE"
      },
      "outputs": [],
      "source": [
        "def trapezio(fx0,fx1,h):\n",
        "  return ((fx0+fx1)*h)/2\n"
      ]
    },
    {
      "cell_type": "code",
      "execution_count": 10,
      "metadata": {},
      "outputs": [],
      "source": [
        "def mudavariavel():\n",
        "  return 1"
      ]
    },
    {
      "cell_type": "code",
      "execution_count": 11,
      "metadata": {},
      "outputs": [],
      "source": [
        "def quadraturagaussiana(func):\n",
        "  return (f(-1*(sqrt(3)/3)) + f(sqrt(3)/3))"
      ]
    },
    {
      "cell_type": "code",
      "execution_count": 12,
      "metadata": {
        "colab": {
          "base_uri": "https://localhost:8080/"
        },
        "id": "HvKrUF6Q-7rK",
        "outputId": "0ab0d690-a972-4c3f-a0cb-ac65cd9bd7b8"
      },
      "outputs": [
        {
          "name": "stdout",
          "output_type": "stream",
          "text": [
            "1.8591409142295225\n"
          ]
        }
      ],
      "source": [
        "print(trapezio(f(x0),f(x1),1))"
      ]
    }
  ],
  "metadata": {
    "colab": {
      "provenance": []
    },
    "kernelspec": {
      "display_name": "Python 3",
      "name": "python3"
    },
    "language_info": {
      "codemirror_mode": {
        "name": "ipython",
        "version": 3
      },
      "file_extension": ".py",
      "mimetype": "text/x-python",
      "name": "python",
      "nbconvert_exporter": "python",
      "pygments_lexer": "ipython3",
      "version": "3.11.7"
    }
  },
  "nbformat": 4,
  "nbformat_minor": 0
}
