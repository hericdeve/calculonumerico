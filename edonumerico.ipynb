{
  "cells": [
    {
      "cell_type": "code",
      "execution_count": 167,
      "metadata": {
        "id": "1POEYWLM5QPs"
      },
      "outputs": [],
      "source": [
        "from math import exp as exp"
      ]
    },
    {
      "cell_type": "code",
      "execution_count": 168,
      "metadata": {
        "id": "BWYMR1U9weIJ"
      },
      "outputs": [],
      "source": [
        "# yo = 1\n",
        "# a = 0\n",
        "# b = 1"
      ]
    },
    {
      "cell_type": "code",
      "execution_count": null,
      "metadata": {
        "id": "UbfSj7a4ypZF"
      },
      "outputs": [],
      "source": []
    },
    {
      "cell_type": "code",
      "execution_count": 169,
      "metadata": {
        "id": "ZoKIQNH4vaMh"
      },
      "outputs": [],
      "source": [
        "def eulermethod(f, y0, a, b, n):\n",
        "  t = a\n",
        "  w0 = y0\n",
        "  w = [w0]\n",
        "  h = (b-a)/n\n",
        "  while (t < b):\n",
        "    w += [w[-1] + h * (f(t,w[-1]))]\n",
        "    t+=h\n",
        "  return w"
      ]
    },
    {
      "cell_type": "code",
      "execution_count": 170,
      "metadata": {
        "id": "CnOgw9sK-Azj"
      },
      "outputs": [],
      "source": [
        "def rk4(f,y0,a,b,n):\n",
        "  t = a\n",
        "  w0 = y0\n",
        "  w = [w0]\n",
        "  h = (b-a)/n\n",
        "  while (t < b):\n",
        "    k = [h*f(t, w[-1])]\n",
        "    k+= [h*(f(t + h/2,w[-1] + k[-1]/2))]\n",
        "    k+= [h*(f(t + h/2,w[-1] + k[-1]/2))]\n",
        "    k+= [h*(f(t + h,w[-1] + k[-1]))]\n",
        "      # print(k[-1])\n",
        "    w += [w[-1] + 1/6*(k[0] + 2*k[1] + 2*k[2] + k[3])]\n",
        "    # print(\"K = {}\".format(k))\n",
        "    t+=h\n",
        "  return w\n"
      ]
    },
    {
      "cell_type": "code",
      "execution_count": 171,
      "metadata": {},
      "outputs": [],
      "source": [
        "def g(t,y):\n",
        "  return ((t*exp(3*t))-2*y)"
      ]
    },
    {
      "cell_type": "code",
      "execution_count": 172,
      "metadata": {},
      "outputs": [
        {
          "name": "stdout",
          "output_type": "stream",
          "text": [
            "Método de Euler:  [0, 0.0, 1.1204222675845161, 10.042768461593834, 67.51284847539137]\n",
            "Runge Kutta de quarta ordem:  [0, 0.2969974621293295, 3.3143117774778457, 23.98665545253551, 148.52344877217348]\n"
          ]
        }
      ],
      "source": [
        "print(\"Método de Euler: \", eulermethod(g, 0, 0, 2, 4))\n",
        "print(\"Runge Kutta de quarta ordem: \", rk4(g, 0, 0, 2, 4))"
      ]
    },
    {
      "cell_type": "code",
      "execution_count": null,
      "metadata": {},
      "outputs": [],
      "source": []
    }
  ],
  "metadata": {
    "colab": {
      "provenance": []
    },
    "kernelspec": {
      "display_name": "Python 3",
      "name": "python3"
    },
    "language_info": {
      "codemirror_mode": {
        "name": "ipython",
        "version": 3
      },
      "file_extension": ".py",
      "mimetype": "text/x-python",
      "name": "python",
      "nbconvert_exporter": "python",
      "pygments_lexer": "ipython3",
      "version": "3.11.7"
    }
  },
  "nbformat": 4,
  "nbformat_minor": 0
}
